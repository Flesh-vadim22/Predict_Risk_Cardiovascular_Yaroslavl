{
 "cells": [
  {
   "cell_type": "code",
   "execution_count": 1,
   "id": "ff5a79f3",
   "metadata": {},
   "outputs": [
    {
     "name": "stdout",
     "output_type": "stream",
     "text": [
      "Package              Version\n",
      "-------------------- -----------\n",
      "argon2-cffi          21.3.0\n",
      "argon2-cffi-bindings 21.2.0\n",
      "arrow                1.2.2\n",
      "attrs                21.4.0\n",
      "backcall             0.2.0\n",
      "beautifulsoup4       4.11.1\n",
      "binaryornot          0.4.4\n",
      "bleach               5.0.1\n",
      "certifi              2022.6.15\n",
      "cffi                 1.15.1\n",
      "chardet              5.0.0\n",
      "charset-normalizer   2.1.0\n",
      "click                8.1.3\n",
      "colorama             0.4.5\n",
      "cookiecutter         2.1.1\n",
      "debugpy              1.6.0\n",
      "decorator            5.1.1\n",
      "defusedxml           0.7.1\n",
      "entrypoints          0.4\n",
      "fastjsonschema       2.15.3\n",
      "idna                 3.3\n",
      "importlib-metadata   4.12.0\n",
      "importlib-resources  5.8.0\n",
      "ipykernel            6.15.0\n",
      "ipython              7.34.0\n",
      "ipython-genutils     0.2.0\n",
      "ipywidgets           7.7.1\n",
      "jedi                 0.18.1\n",
      "Jinja2               3.1.2\n",
      "jinja2-time          0.2.0\n",
      "jsonschema           4.6.1\n",
      "jupyter              1.0.0\n",
      "jupyter-client       7.3.4\n",
      "jupyter-console      6.4.4\n",
      "jupyter-core         4.10.0\n",
      "jupyterlab-pygments  0.2.2\n",
      "jupyterlab-widgets   1.1.1\n",
      "MarkupSafe           2.1.1\n",
      "matplotlib-inline    0.1.3\n",
      "mistune              0.8.4\n",
      "nbclient             0.6.6\n",
      "nbconvert            6.5.0\n",
      "nbformat             5.4.0\n",
      "nest-asyncio         1.5.5\n",
      "notebook             6.4.12\n",
      "packaging            21.3\n",
      "pandocfilters        1.5.0\n",
      "parso                0.8.3\n",
      "pickleshare          0.7.5\n",
      "pip                  20.1.1\n",
      "prometheus-client    0.14.1\n",
      "prompt-toolkit       3.0.30\n",
      "psutil               5.9.1\n",
      "pycparser            2.21\n",
      "Pygments             2.12.0\n",
      "pyparsing            3.0.9\n",
      "pyrsistent           0.18.1\n",
      "python-dateutil      2.8.2\n",
      "python-slugify       6.1.2\n",
      "pywin32              304\n",
      "pywinpty             2.0.5\n",
      "PyYAML               6.0\n",
      "pyzmq                23.2.0\n",
      "qtconsole            5.3.1\n",
      "QtPy                 2.1.0\n",
      "requests             2.28.1\n",
      "Send2Trash           1.8.0\n",
      "setuptools           47.1.0\n",
      "six                  1.16.0\n",
      "soupsieve            2.3.2.post1\n",
      "terminado            0.15.0\n",
      "text-unidecode       1.3\n",
      "tinycss2             1.1.1\n",
      "tornado              6.1\n",
      "traitlets            5.3.0\n",
      "typing-extensions    4.3.0\n",
      "urllib3              1.26.9\n",
      "wcwidth              0.2.5\n",
      "webencodings         0.5.1\n",
      "widgetsnbextension   3.6.1\n",
      "zipp                 3.8.0\n"
     ]
    },
    {
     "name": "stderr",
     "output_type": "stream",
     "text": [
      "WARNING: You are using pip version 20.1.1; however, version 22.1.2 is available.\n",
      "You should consider upgrading via the 'c:\\users\\house\\desktop\\папки\\для себя\\хакатоны\\цп\\ярославль\\predictriskcardiovascular\\env\\scripts\\python.exe -m pip install --upgrade pip' command.\n"
     ]
    }
   ],
   "source": [
    "from sklearn.model_selection import train_test_split\n",
    "from sklearn.model_selection import cross_val_score\n",
    "from matplotlib import pyplot as plt\n",
    "import numpy as np\n",
    "import pandas as pd\n"
   ]
  }
 ],
 "metadata": {
  "kernelspec": {
   "display_name": "Python 3 (ipykernel)",
   "language": "python",
   "name": "python3"
  },
  "language_info": {
   "codemirror_mode": {
    "name": "ipython",
    "version": 3
   },
   "file_extension": ".py",
   "mimetype": "text/x-python",
   "name": "python",
   "nbconvert_exporter": "python",
   "pygments_lexer": "ipython3",
   "version": "3.7.9"
  }
 },
 "nbformat": 4,
 "nbformat_minor": 5
}
